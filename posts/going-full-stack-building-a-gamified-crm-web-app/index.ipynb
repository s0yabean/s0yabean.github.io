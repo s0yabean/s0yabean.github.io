{
 "cells": [
  {
   "cell_type": "markdown",
   "metadata": {},
   "source": [
    "Write your post here."
   ]
  }
 ],
 "metadata": {
  "kernelspec": {
   "display_name": "Python 3",
   "env": {},
   "interrupt_mode": "signal",
   "language": "python",
   "metadata": {},
   "name": "python3"
  },
  "nikola": {
   "category": "",
   "date": "2019-08-21 23:49:03 UTC+08:00",
   "description": "",
   "link": "",
   "slug": "going-full-stack-building-a-gamified-crm-web-app",
   "tags": "",
   "title": "Going Full-Stack - Building a gamified CRM web app",
   "type": "text"
  }
 },
 "nbformat": 4,
 "nbformat_minor": 2
}
