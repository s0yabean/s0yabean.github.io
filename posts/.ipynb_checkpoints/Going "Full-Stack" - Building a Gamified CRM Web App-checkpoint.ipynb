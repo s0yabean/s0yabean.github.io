{
 "cells": [
  {
   "cell_type": "markdown",
   "metadata": {},
   "source": [
    "Write your post here."
   ]
  }
 ],
 "metadata": {
  "kernelspec": {
   "display_name": "Python 3",
   "language": "python",
   "name": "python3"
  },
  "language_info": {
   "codemirror_mode": {
    "name": "ipython",
    "version": 3
   },
   "file_extension": ".py",
   "mimetype": "text/x-python",
   "name": "python",
   "nbconvert_exporter": "python",
   "pygments_lexer": "ipython3",
   "version": "3.7.3"
  },
  "nikola": {
   "category": "",
   "date": "2019-08-21 23:36:40 UTC+08:00",
   "description": "",
   "link": "",
   "slug": "test",
   "tags": "",
   "title": "test",
   "type": "text"
  }
 },
 "nbformat": 4,
 "nbformat_minor": 2
}
