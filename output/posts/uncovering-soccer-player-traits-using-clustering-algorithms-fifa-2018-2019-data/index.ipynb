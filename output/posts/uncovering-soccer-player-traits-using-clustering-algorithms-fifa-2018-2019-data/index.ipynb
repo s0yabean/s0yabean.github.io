{
 "cells": [
  {
   "cell_type": "markdown",
   "metadata": {},
   "source": [
    "Write your post here."
   ]
  }
 ],
 "metadata": {
  "kernelspec": {
   "display_name": "Python 3",
   "env": {},
   "interrupt_mode": "signal",
   "language": "python",
   "metadata": {},
   "name": "python3"
  },
  "nikola": {
   "category": "",
   "date": "2019-08-21 23:49:56 UTC+08:00",
   "description": "",
   "link": "",
   "slug": "uncovering-soccer-player-traits-using-clustering-algorithms-fifa-2018-2019-data",
   "tags": "",
   "title": "Uncovering Soccer Player Traits Using Clustering Algorithms (FIFA 2018-2019 Data)",
   "type": "text"
  }
 },
 "nbformat": 4,
 "nbformat_minor": 2
}
